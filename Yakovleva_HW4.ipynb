{
 "cells": [
  {
   "cell_type": "code",
   "execution_count": 2,
   "metadata": {},
   "outputs": [],
   "source": [
    "# подгружаемся\n",
    "import pandas as pd\n",
    "import numpy as np\n",
    "import seaborn as sns\n",
    "import matplotlib.pyplot as plt\n",
    "from matplotlib.pyplot import figure\n",
    "from scipy.stats import chi2_contingency\n",
    "from sklearn import preprocessing\n",
    "from sklearn.model_selection import train_test_split\n",
    "from sklearn.ensemble import RandomForestClassifier\n",
    "from sklearn.metrics import confusion_matrix\n",
    "from sklearn.metrics import plot_confusion_matrix\n",
    "from sklearn import metrics\n",
    "from sklearn.model_selection import GridSearchCV"
   ]
  },
  {
   "cell_type": "code",
   "execution_count": 3,
   "metadata": {},
   "outputs": [],
   "source": [
    "# грузим\n",
    "data = pd.read_csv('soybean-large_data.csv')"
   ]
  },
  {
   "cell_type": "code",
   "execution_count": 4,
   "metadata": {},
   "outputs": [],
   "source": [
    "### Задание 1. EDA"
   ]
  },
  {
   "cell_type": "code",
   "execution_count": 5,
   "metadata": {},
   "outputs": [
    {
     "data": {
      "text/html": [
       "<div>\n",
       "<style scoped>\n",
       "    .dataframe tbody tr th:only-of-type {\n",
       "        vertical-align: middle;\n",
       "    }\n",
       "\n",
       "    .dataframe tbody tr th {\n",
       "        vertical-align: top;\n",
       "    }\n",
       "\n",
       "    .dataframe thead th {\n",
       "        text-align: right;\n",
       "    }\n",
       "</style>\n",
       "<table border=\"1\" class=\"dataframe\">\n",
       "  <thead>\n",
       "    <tr style=\"text-align: right;\">\n",
       "      <th></th>\n",
       "      <th>name</th>\n",
       "      <th>date</th>\n",
       "      <th>plant-stand</th>\n",
       "      <th>precip</th>\n",
       "      <th>temp</th>\n",
       "      <th>hail</th>\n",
       "      <th>crop-hist</th>\n",
       "      <th>area-damaged</th>\n",
       "      <th>severity</th>\n",
       "      <th>seed-tmt</th>\n",
       "      <th>...</th>\n",
       "      <th>int-discolor</th>\n",
       "      <th>sclerotia</th>\n",
       "      <th>fruit-pods</th>\n",
       "      <th>fruit spots</th>\n",
       "      <th>seed</th>\n",
       "      <th>mold-growth</th>\n",
       "      <th>seed-discolor</th>\n",
       "      <th>seed-size</th>\n",
       "      <th>shriveling</th>\n",
       "      <th>roots</th>\n",
       "    </tr>\n",
       "  </thead>\n",
       "  <tbody>\n",
       "    <tr>\n",
       "      <th>0</th>\n",
       "      <td>diaporthe-stem-canker</td>\n",
       "      <td>6</td>\n",
       "      <td>0</td>\n",
       "      <td>2</td>\n",
       "      <td>1</td>\n",
       "      <td>0</td>\n",
       "      <td>1</td>\n",
       "      <td>1</td>\n",
       "      <td>1</td>\n",
       "      <td>0</td>\n",
       "      <td>...</td>\n",
       "      <td>0</td>\n",
       "      <td>0</td>\n",
       "      <td>0</td>\n",
       "      <td>4</td>\n",
       "      <td>0</td>\n",
       "      <td>0</td>\n",
       "      <td>0</td>\n",
       "      <td>0</td>\n",
       "      <td>0</td>\n",
       "      <td>0</td>\n",
       "    </tr>\n",
       "    <tr>\n",
       "      <th>1</th>\n",
       "      <td>diaporthe-stem-canker</td>\n",
       "      <td>4</td>\n",
       "      <td>0</td>\n",
       "      <td>2</td>\n",
       "      <td>1</td>\n",
       "      <td>0</td>\n",
       "      <td>2</td>\n",
       "      <td>0</td>\n",
       "      <td>2</td>\n",
       "      <td>1</td>\n",
       "      <td>...</td>\n",
       "      <td>0</td>\n",
       "      <td>0</td>\n",
       "      <td>0</td>\n",
       "      <td>4</td>\n",
       "      <td>0</td>\n",
       "      <td>0</td>\n",
       "      <td>0</td>\n",
       "      <td>0</td>\n",
       "      <td>0</td>\n",
       "      <td>0</td>\n",
       "    </tr>\n",
       "    <tr>\n",
       "      <th>2</th>\n",
       "      <td>diaporthe-stem-canker</td>\n",
       "      <td>3</td>\n",
       "      <td>0</td>\n",
       "      <td>2</td>\n",
       "      <td>1</td>\n",
       "      <td>0</td>\n",
       "      <td>1</td>\n",
       "      <td>0</td>\n",
       "      <td>2</td>\n",
       "      <td>1</td>\n",
       "      <td>...</td>\n",
       "      <td>0</td>\n",
       "      <td>0</td>\n",
       "      <td>0</td>\n",
       "      <td>4</td>\n",
       "      <td>0</td>\n",
       "      <td>0</td>\n",
       "      <td>0</td>\n",
       "      <td>0</td>\n",
       "      <td>0</td>\n",
       "      <td>0</td>\n",
       "    </tr>\n",
       "    <tr>\n",
       "      <th>3</th>\n",
       "      <td>diaporthe-stem-canker</td>\n",
       "      <td>3</td>\n",
       "      <td>0</td>\n",
       "      <td>2</td>\n",
       "      <td>1</td>\n",
       "      <td>0</td>\n",
       "      <td>1</td>\n",
       "      <td>0</td>\n",
       "      <td>2</td>\n",
       "      <td>0</td>\n",
       "      <td>...</td>\n",
       "      <td>0</td>\n",
       "      <td>0</td>\n",
       "      <td>0</td>\n",
       "      <td>4</td>\n",
       "      <td>0</td>\n",
       "      <td>0</td>\n",
       "      <td>0</td>\n",
       "      <td>0</td>\n",
       "      <td>0</td>\n",
       "      <td>0</td>\n",
       "    </tr>\n",
       "    <tr>\n",
       "      <th>4</th>\n",
       "      <td>diaporthe-stem-canker</td>\n",
       "      <td>6</td>\n",
       "      <td>0</td>\n",
       "      <td>2</td>\n",
       "      <td>1</td>\n",
       "      <td>0</td>\n",
       "      <td>2</td>\n",
       "      <td>0</td>\n",
       "      <td>1</td>\n",
       "      <td>0</td>\n",
       "      <td>...</td>\n",
       "      <td>0</td>\n",
       "      <td>0</td>\n",
       "      <td>0</td>\n",
       "      <td>4</td>\n",
       "      <td>0</td>\n",
       "      <td>0</td>\n",
       "      <td>0</td>\n",
       "      <td>0</td>\n",
       "      <td>0</td>\n",
       "      <td>0</td>\n",
       "    </tr>\n",
       "    <tr>\n",
       "      <th>...</th>\n",
       "      <td>...</td>\n",
       "      <td>...</td>\n",
       "      <td>...</td>\n",
       "      <td>...</td>\n",
       "      <td>...</td>\n",
       "      <td>...</td>\n",
       "      <td>...</td>\n",
       "      <td>...</td>\n",
       "      <td>...</td>\n",
       "      <td>...</td>\n",
       "      <td>...</td>\n",
       "      <td>...</td>\n",
       "      <td>...</td>\n",
       "      <td>...</td>\n",
       "      <td>...</td>\n",
       "      <td>...</td>\n",
       "      <td>...</td>\n",
       "      <td>...</td>\n",
       "      <td>...</td>\n",
       "      <td>...</td>\n",
       "      <td>...</td>\n",
       "    </tr>\n",
       "    <tr>\n",
       "      <th>302</th>\n",
       "      <td>2-4-d-injury</td>\n",
       "      <td>?</td>\n",
       "      <td>?</td>\n",
       "      <td>?</td>\n",
       "      <td>?</td>\n",
       "      <td>?</td>\n",
       "      <td>?</td>\n",
       "      <td>?</td>\n",
       "      <td>?</td>\n",
       "      <td>?</td>\n",
       "      <td>...</td>\n",
       "      <td>?</td>\n",
       "      <td>?</td>\n",
       "      <td>?</td>\n",
       "      <td>?</td>\n",
       "      <td>?</td>\n",
       "      <td>?</td>\n",
       "      <td>?</td>\n",
       "      <td>?</td>\n",
       "      <td>?</td>\n",
       "      <td>?</td>\n",
       "    </tr>\n",
       "    <tr>\n",
       "      <th>303</th>\n",
       "      <td>herbicide-injury</td>\n",
       "      <td>1</td>\n",
       "      <td>1</td>\n",
       "      <td>?</td>\n",
       "      <td>0</td>\n",
       "      <td>?</td>\n",
       "      <td>1</td>\n",
       "      <td>0</td>\n",
       "      <td>?</td>\n",
       "      <td>?</td>\n",
       "      <td>...</td>\n",
       "      <td>?</td>\n",
       "      <td>?</td>\n",
       "      <td>3</td>\n",
       "      <td>?</td>\n",
       "      <td>?</td>\n",
       "      <td>?</td>\n",
       "      <td>?</td>\n",
       "      <td>?</td>\n",
       "      <td>?</td>\n",
       "      <td>1</td>\n",
       "    </tr>\n",
       "    <tr>\n",
       "      <th>304</th>\n",
       "      <td>herbicide-injury</td>\n",
       "      <td>0</td>\n",
       "      <td>1</td>\n",
       "      <td>?</td>\n",
       "      <td>0</td>\n",
       "      <td>?</td>\n",
       "      <td>0</td>\n",
       "      <td>3</td>\n",
       "      <td>?</td>\n",
       "      <td>?</td>\n",
       "      <td>...</td>\n",
       "      <td>?</td>\n",
       "      <td>?</td>\n",
       "      <td>3</td>\n",
       "      <td>?</td>\n",
       "      <td>?</td>\n",
       "      <td>?</td>\n",
       "      <td>?</td>\n",
       "      <td>?</td>\n",
       "      <td>?</td>\n",
       "      <td>1</td>\n",
       "    </tr>\n",
       "    <tr>\n",
       "      <th>305</th>\n",
       "      <td>herbicide-injury</td>\n",
       "      <td>1</td>\n",
       "      <td>1</td>\n",
       "      <td>?</td>\n",
       "      <td>0</td>\n",
       "      <td>?</td>\n",
       "      <td>0</td>\n",
       "      <td>0</td>\n",
       "      <td>?</td>\n",
       "      <td>?</td>\n",
       "      <td>...</td>\n",
       "      <td>?</td>\n",
       "      <td>?</td>\n",
       "      <td>3</td>\n",
       "      <td>?</td>\n",
       "      <td>?</td>\n",
       "      <td>?</td>\n",
       "      <td>?</td>\n",
       "      <td>?</td>\n",
       "      <td>?</td>\n",
       "      <td>1</td>\n",
       "    </tr>\n",
       "    <tr>\n",
       "      <th>306</th>\n",
       "      <td>herbicide-injury</td>\n",
       "      <td>1</td>\n",
       "      <td>1</td>\n",
       "      <td>?</td>\n",
       "      <td>0</td>\n",
       "      <td>?</td>\n",
       "      <td>1</td>\n",
       "      <td>3</td>\n",
       "      <td>?</td>\n",
       "      <td>?</td>\n",
       "      <td>...</td>\n",
       "      <td>?</td>\n",
       "      <td>?</td>\n",
       "      <td>3</td>\n",
       "      <td>?</td>\n",
       "      <td>?</td>\n",
       "      <td>?</td>\n",
       "      <td>?</td>\n",
       "      <td>?</td>\n",
       "      <td>?</td>\n",
       "      <td>1</td>\n",
       "    </tr>\n",
       "  </tbody>\n",
       "</table>\n",
       "<p>307 rows × 36 columns</p>\n",
       "</div>"
      ],
      "text/plain": [
       "                      name date plant-stand precip temp hail crop-hist  \\\n",
       "0    diaporthe-stem-canker    6           0      2    1    0         1   \n",
       "1    diaporthe-stem-canker    4           0      2    1    0         2   \n",
       "2    diaporthe-stem-canker    3           0      2    1    0         1   \n",
       "3    diaporthe-stem-canker    3           0      2    1    0         1   \n",
       "4    diaporthe-stem-canker    6           0      2    1    0         2   \n",
       "..                     ...  ...         ...    ...  ...  ...       ...   \n",
       "302           2-4-d-injury    ?           ?      ?    ?    ?         ?   \n",
       "303       herbicide-injury    1           1      ?    0    ?         1   \n",
       "304       herbicide-injury    0           1      ?    0    ?         0   \n",
       "305       herbicide-injury    1           1      ?    0    ?         0   \n",
       "306       herbicide-injury    1           1      ?    0    ?         1   \n",
       "\n",
       "    area-damaged severity seed-tmt  ... int-discolor sclerotia  fruit-pods  \\\n",
       "0              1        1        0  ...            0         0           0   \n",
       "1              0        2        1  ...            0         0           0   \n",
       "2              0        2        1  ...            0         0           0   \n",
       "3              0        2        0  ...            0         0           0   \n",
       "4              0        1        0  ...            0         0           0   \n",
       "..           ...      ...      ...  ...          ...       ...         ...   \n",
       "302            ?        ?        ?  ...            ?         ?           ?   \n",
       "303            0        ?        ?  ...            ?         ?           3   \n",
       "304            3        ?        ?  ...            ?         ?           3   \n",
       "305            0        ?        ?  ...            ?         ?           3   \n",
       "306            3        ?        ?  ...            ?         ?           3   \n",
       "\n",
       "    fruit spots seed mold-growth seed-discolor seed-size shriveling roots  \n",
       "0             4    0           0             0         0          0     0  \n",
       "1             4    0           0             0         0          0     0  \n",
       "2             4    0           0             0         0          0     0  \n",
       "3             4    0           0             0         0          0     0  \n",
       "4             4    0           0             0         0          0     0  \n",
       "..          ...  ...         ...           ...       ...        ...   ...  \n",
       "302           ?    ?           ?             ?         ?          ?     ?  \n",
       "303           ?    ?           ?             ?         ?          ?     1  \n",
       "304           ?    ?           ?             ?         ?          ?     1  \n",
       "305           ?    ?           ?             ?         ?          ?     1  \n",
       "306           ?    ?           ?             ?         ?          ?     1  \n",
       "\n",
       "[307 rows x 36 columns]"
      ]
     },
     "execution_count": 5,
     "metadata": {},
     "output_type": "execute_result"
    }
   ],
   "source": [
    "# знакомимся\n",
    "data\n",
    "# видим, что вместо NA стоят знаки вопроса..."
   ]
  },
  {
   "cell_type": "code",
   "execution_count": 267,
   "metadata": {},
   "outputs": [
    {
     "data": {
      "text/plain": [
       "array(['name', 'date', 'plant-stand', 'precip', 'temp', 'hail',\n",
       "       'crop-hist', 'area-damaged', 'severity', 'seed-tmt', 'germination',\n",
       "       'plant-growth', 'leaves', 'leafspots-halo', 'leafspots-marg',\n",
       "       'leafspot-size', 'leaf-shread', 'leaf-malf', 'leaf-mild', 'stem',\n",
       "       'lodging', 'stem-cankers', 'canker-lesion', 'fruiting-bodies',\n",
       "       'external decay', 'mycelium', 'int-discolor', 'sclerotia',\n",
       "       'fruit-pods', 'fruit spots', 'seed', 'mold-growth',\n",
       "       'seed-discolor', 'seed-size', 'shriveling', 'roots'], dtype=object)"
      ]
     },
     "execution_count": 267,
     "metadata": {},
     "output_type": "execute_result"
    }
   ],
   "source": [
    "# что за переменные\n",
    "data.columns.values"
   ]
  },
  {
   "cell_type": "code",
   "execution_count": 8,
   "metadata": {},
   "outputs": [
    {
     "data": {
      "text/plain": [
       "name                0\n",
       "date                1\n",
       "plant-stand         8\n",
       "precip             11\n",
       "temp                7\n",
       "hail               41\n",
       "crop-hist           1\n",
       "area-damaged        1\n",
       "severity           41\n",
       "seed-tmt           41\n",
       "germination        36\n",
       "plant-growth        1\n",
       "leaves              0\n",
       "leafspots-halo     25\n",
       "leafspots-marg     25\n",
       "leafspot-size      25\n",
       "leaf-shread        26\n",
       "leaf-malf          25\n",
       "leaf-mild          30\n",
       "stem                1\n",
       "lodging            41\n",
       "stem-cankers       11\n",
       "canker-lesion      11\n",
       "fruiting-bodies    35\n",
       "external decay     11\n",
       "mycelium           11\n",
       "int-discolor       11\n",
       "sclerotia          11\n",
       "fruit-pods         25\n",
       "fruit spots        35\n",
       "seed               29\n",
       "mold-growth        29\n",
       "seed-discolor      35\n",
       "seed-size          29\n",
       "shriveling         35\n",
       "roots               7\n",
       "dtype: int64"
      ]
     },
     "execution_count": 8,
     "metadata": {},
     "output_type": "execute_result"
    }
   ],
   "source": [
    "# есть ли NA\n",
    "data.isnull().sum()\n",
    "# с виду все прилично, но мы понимаем, что знаки вопроса - это не ОК"
   ]
  },
  {
   "cell_type": "code",
   "execution_count": 9,
   "metadata": {},
   "outputs": [
    {
     "data": {
      "text/plain": [
       "name               0\n",
       "date               0\n",
       "plant-stand        0\n",
       "precip             0\n",
       "temp               0\n",
       "hail               0\n",
       "crop-hist          0\n",
       "area-damaged       0\n",
       "severity           0\n",
       "seed-tmt           0\n",
       "germination        0\n",
       "plant-growth       0\n",
       "leaves             0\n",
       "leafspots-halo     0\n",
       "leafspots-marg     0\n",
       "leafspot-size      0\n",
       "leaf-shread        0\n",
       "leaf-malf          0\n",
       "leaf-mild          0\n",
       "stem               0\n",
       "lodging            0\n",
       "stem-cankers       0\n",
       "canker-lesion      0\n",
       "fruiting-bodies    0\n",
       "external decay     0\n",
       "mycelium           0\n",
       "int-discolor       0\n",
       "sclerotia          0\n",
       "fruit-pods         0\n",
       "fruit spots        0\n",
       "seed               0\n",
       "mold-growth        0\n",
       "seed-discolor      0\n",
       "seed-size          0\n",
       "shriveling         0\n",
       "roots              0\n",
       "dtype: int64"
      ]
     },
     "execution_count": 9,
     "metadata": {},
     "output_type": "execute_result"
    }
   ],
   "source": [
    "# видим большое количество спрятавшихся NA\n",
    "data.isin(['?']).sum()"
   ]
  },
  {
   "cell_type": "code",
   "execution_count": 10,
   "metadata": {},
   "outputs": [
    {
     "data": {
      "text/plain": [
       "name                0\n",
       "date                1\n",
       "plant-stand         8\n",
       "precip             11\n",
       "temp                7\n",
       "hail               41\n",
       "crop-hist           1\n",
       "area-damaged        1\n",
       "severity           41\n",
       "seed-tmt           41\n",
       "germination        36\n",
       "plant-growth        1\n",
       "leaves              0\n",
       "leafspots-halo     25\n",
       "leafspots-marg     25\n",
       "leafspot-size      25\n",
       "leaf-shread        26\n",
       "leaf-malf          25\n",
       "leaf-mild          30\n",
       "stem                1\n",
       "lodging            41\n",
       "stem-cankers       11\n",
       "canker-lesion      11\n",
       "fruiting-bodies    35\n",
       "external decay     11\n",
       "mycelium           11\n",
       "int-discolor       11\n",
       "sclerotia          11\n",
       "fruit-pods         25\n",
       "fruit spots        35\n",
       "seed               29\n",
       "mold-growth        29\n",
       "seed-discolor      35\n",
       "seed-size          29\n",
       "shriveling         35\n",
       "roots               7\n",
       "dtype: int64"
      ]
     },
     "execution_count": 10,
     "metadata": {},
     "output_type": "execute_result"
    }
   ],
   "source": [
    "# превращаем вопросы в NaN\n",
    "data = data.replace('?', np.nan)\n",
    "data.isnull().sum()"
   ]
  },
  {
   "cell_type": "code",
   "execution_count": 11,
   "metadata": {},
   "outputs": [
    {
     "data": {
      "text/plain": [
       "{'diaporthe-stem-canker': 0,\n",
       " 'charcoal-rot': 0,\n",
       " 'rhizoctonia-root-rot': 0,\n",
       " 'phytophthora-rot': 390,\n",
       " 'brown-stem-rot': 0,\n",
       " 'powdery-mildew': 0,\n",
       " 'downy-mildew': 0,\n",
       " 'brown-spot': 0,\n",
       " 'bacterial-blight': 0,\n",
       " 'bacterial-pustule': 0,\n",
       " 'purple-seed-stain': 0,\n",
       " 'anthracnose': 0,\n",
       " 'phyllosticta-leaf-spot': 0,\n",
       " 'alternarialeaf-spot': 0,\n",
       " 'frog-eye-leaf-spot': 0,\n",
       " 'diaporthe-pod-&-stem-blight': 68,\n",
       " 'cyst-nematode': 144,\n",
       " '2-4-d-injury': 30,\n",
       " 'herbicide-injury': 80}"
      ]
     },
     "execution_count": 11,
     "metadata": {},
     "output_type": "execute_result"
    }
   ],
   "source": [
    "# проверяем, в каких классах все совсем плохо с данными\n",
    "na_dict = {}\n",
    "data[data['name'] == 'diaporthe-stem-canker']\n",
    "for el in data['name']:\n",
    "    na_dict[el] = sum(data[data['name'] == el].isnull().sum())\n",
    "    \n",
    "na_dict\n",
    "# для себя можем отменить, что трудности с предсказаниями могут возникнуть для классов\n",
    "# phytophthora-rot, diaporthe-pod-&-stem-blight, cyst-nematode, 2-4-d-injury, herbicide-injury"
   ]
  },
  {
   "cell_type": "code",
   "execution_count": 12,
   "metadata": {},
   "outputs": [],
   "source": [
    "# заменяем NA по-простому на моду\n",
    "for el in data:\n",
    "    if el == 'name':\n",
    "        pass\n",
    "    else:  \n",
    "        data[el] = data[el].fillna(int(data[el].mode()))"
   ]
  },
  {
   "cell_type": "code",
   "execution_count": null,
   "metadata": {},
   "outputs": [],
   "source": [
    "# проверить наличие скорелированных переменных, визуализировать\n",
    "# у нас категориальные переменные, так то можно это сделать разными способами\n",
    "# попробуем коэффициент Крамера\n",
    "https://towardsdatascience.com/the-search-for-categorical-correlation-a1cf7f1888c9\n",
    "https://stackoverflow.com/questions/20892799/using-pandas-calculate-cram%C3%A9rs-coefficient-matrix\n",
    "https://www.kaggle.com/chrisbss1/cramer-s-v-correlation-matrix"
   ]
  },
  {
   "cell_type": "code",
   "execution_count": 13,
   "metadata": {},
   "outputs": [
    {
     "data": {
      "image/png": "[encoded data removed]",
      "text/plain": [
       "<Figure size 432x288 with 2 Axes>"
      ]
     },
     "metadata": {},
     "output_type": "display_data"
    }
   ],
   "source": [
    "# функция\n",
    "def cramers_V(var1,var2):\n",
    "    crosstab = np.array(pd.crosstab(var1,var2, rownames=None, colnames=None)) # Cross table building\n",
    "    stat = chi2_contingency(crosstab)[0] # Keeping of the test statistic of the Chi2 test\n",
    "    obs = np.sum(crosstab) # Number of observations\n",
    "    mini = min(crosstab.shape)-1 # Take the minimum value between the columns and the rows of the cross table\n",
    "    return (stat/(obs*mini))\n",
    "\n",
    "# подсчет матрицы\n",
    "rows=[]\n",
    "tmp = data.drop(['name'], axis=1)\n",
    "\n",
    "for var1 in tmp:\n",
    "    col = []\n",
    "    for var2 in tmp:\n",
    "        cramers =cramers_V(tmp[var1], tmp[var2]) # Cramer's V test\n",
    "        col.append(round(cramers, 2)) # Keeping of the rounded value of the Cramer's V  \n",
    "    rows.append(col)\n",
    "  \n",
    "cramers_results = np.array(rows)\n",
    "df = pd.DataFrame(cramers_results, columns=tmp.columns, index=tmp.columns)\n",
    "\n",
    "\n",
    "# отрисовка\n",
    "mask = np.zeros_like(df, dtype=np.bool)\n",
    "mask[np.triu_indices_from(mask)] = True\n",
    "\n",
    "with sns.axes_style(\"white\"):\n",
    "    ax = sns.heatmap(df, mask=mask,vmin=0., vmax=1, square=True)\n",
    "\n",
    "plt.show()"
   ]
  },
  {
   "cell_type": "code",
   "execution_count": null,
   "metadata": {},
   "outputs": [],
   "source": [
    "# да, скоррелированные переменные есть, например, fruit spots и seed-size, date и plant-growth"
   ]
  },
  {
   "cell_type": "code",
   "execution_count": 14,
   "metadata": {},
   "outputs": [],
   "source": [
    "# дропаем наблюдение класса 2-4-d-injury, потому что\n",
    "\n",
    "'''The least populated class in y has only 1 member, which is too few.\n",
    "The minimum number of groups for any class cannot be less than 2.\n",
    "'''\n",
    "\n",
    "data = data.drop(302)"
   ]
  },
  {
   "cell_type": "code",
   "execution_count": 15,
   "metadata": {},
   "outputs": [],
   "source": [
    "### Задание 2. Делим датасет на train и test.\n",
    "# Данные должны быть представлены равномерно и стратифицированно\n",
    "\n",
    "X = data.drop(['name'], axis=1)\n",
    "y = data['name']\n",
    "\n",
    "X_train, X_test, y_train, y_test = train_test_split(X, y, test_size=0.33, random_state=0, stratify=y, shuffle=True)"
   ]
  },
  {
   "cell_type": "code",
   "execution_count": 16,
   "metadata": {},
   "outputs": [
    {
     "data": {
      "text/plain": [
       "RandomForestClassifier(bootstrap=True, ccp_alpha=0.0, class_weight=None,\n",
       "                       criterion='gini', max_depth=5, max_features='auto',\n",
       "                       max_leaf_nodes=None, max_samples=None,\n",
       "                       min_impurity_decrease=0.0, min_impurity_split=None,\n",
       "                       min_samples_leaf=1, min_samples_split=2,\n",
       "                       min_weight_fraction_leaf=0.0, n_estimators=1000,\n",
       "                       n_jobs=None, oob_score=False, random_state=None,\n",
       "                       verbose=0, warm_start=False)"
      ]
     },
     "execution_count": 16,
     "metadata": {},
     "output_type": "execute_result"
    }
   ],
   "source": [
    "### Задание 3. Обучить RandomForestClassifier\n",
    "clf = RandomForestClassifier(n_estimators=1000, max_depth=5)\n",
    "clf.fit(X_train, y_train)"
   ]
  },
  {
   "cell_type": "code",
   "execution_count": null,
   "metadata": {},
   "outputs": [],
   "source": [
    "### Задание 4. Удалить из тестовой выборки информацию о принадлежности к классу\n",
    "# сделано до этого!"
   ]
  },
  {
   "cell_type": "code",
   "execution_count": 17,
   "metadata": {},
   "outputs": [],
   "source": [
    "### Задание 5. Гадалка-предсказалка\n",
    "predictions = clf.predict(X_test)"
   ]
  },
  {
   "cell_type": "code",
   "execution_count": 18,
   "metadata": {},
   "outputs": [
    {
     "data": {
      "text/plain": [
       "'\\nДиагоналные элементы матрицы яно выражены, однако не все\\nзначения классификатор определяет верно.\\n'"
      ]
     },
     "execution_count": 18,
     "metadata": {},
     "output_type": "execute_result"
    },
    {
     "data": {
      "image/png": "[encoded data removed]",
      "text/plain": [
       "<Figure size 432x288 with 2 Axes>"
      ]
     },
     "metadata": {
      "needs_background": "light"
     },
     "output_type": "display_data"
    }
   ],
   "source": [
    "### Задание 6. Гадалка-оценялка (F-мера и матрица неточностей)\n",
    "sns.heatmap(confusion_matrix(y_test, predictions), annot=True, cmap=\"Blues\")\n",
    "\n",
    "'''\n",
    "Диагоналные элементы матрицы яно выражены, однако не все\n",
    "значения классификатор определяет верно.\n",
    "'''"
   ]
  },
  {
   "cell_type": "code",
   "execution_count": 19,
   "metadata": {},
   "outputs": [
    {
     "name": "stdout",
     "output_type": "stream",
     "text": [
      "                             precision    recall  f1-score   support\n",
      "\n",
      "        alternarialeaf-spot       0.72      1.00      0.84        13\n",
      "                anthracnose       1.00      1.00      1.00         7\n",
      "           bacterial-blight       1.00      0.33      0.50         3\n",
      "          bacterial-pustule       1.00      1.00      1.00         3\n",
      "                 brown-spot       0.86      0.92      0.89        13\n",
      "             brown-stem-rot       1.00      1.00      1.00         7\n",
      "               charcoal-rot       1.00      1.00      1.00         3\n",
      "              cyst-nematode       1.00      1.00      1.00         2\n",
      "diaporthe-pod-&-stem-blight       1.00      1.00      1.00         2\n",
      "      diaporthe-stem-canker       1.00      1.00      1.00         4\n",
      "               downy-mildew       1.00      1.00      1.00         3\n",
      "         frog-eye-leaf-spot       1.00      0.77      0.87        13\n",
      "           herbicide-injury       1.00      1.00      1.00         2\n",
      "     phyllosticta-leaf-spot       0.50      0.33      0.40         3\n",
      "           phytophthora-rot       1.00      1.00      1.00        13\n",
      "             powdery-mildew       1.00      1.00      1.00         3\n",
      "          purple-seed-stain       1.00      1.00      1.00         3\n",
      "       rhizoctonia-root-rot       1.00      1.00      1.00         4\n",
      "\n",
      "                   accuracy                           0.92       101\n",
      "                  macro avg       0.95      0.91      0.92       101\n",
      "               weighted avg       0.93      0.92      0.92       101\n",
      "\n"
     ]
    },
    {
     "data": {
      "text/plain": [
       "'\\nЗначения для bacterial-blight имеют неплохую точность, но плохую чувствительнось.\\nДля alternarialeaf-spot, brown-spot, frog-eye-leaf-spot картина тоже не идеальна.\\n'"
      ]
     },
     "execution_count": 19,
     "metadata": {},
     "output_type": "execute_result"
    }
   ],
   "source": [
    "# смотрим на Precision, Recall, F1-score\n",
    "print(metrics.classification_report(y_test, predictions))\n",
    "\n",
    "'''\n",
    "Значения для bacterial-blight имеют неплохую точность, но плохую чувствительнось.\n",
    "Для alternarialeaf-spot, brown-spot, frog-eye-leaf-spot картина тоже не идеальна.\n",
    "'''"
   ]
  },
  {
   "cell_type": "code",
   "execution_count": 20,
   "metadata": {},
   "outputs": [
    {
     "data": {
      "text/plain": [
       "'\\nЛогично, что в разные отрезки года несчатные бобы будут атаковать раные болезни,\\nпотому что у всех патогенов в разное время реализуется жизненный цикл.\\nРазные разновидности поражений участков растения также важны для классификации.\\nВсе сходится!\\n'"
      ]
     },
     "execution_count": 20,
     "metadata": {},
     "output_type": "execute_result"
    },
    {
     "data": {
      "image/png": "[encoded data removed]",
      "text/plain": [
       "<Figure size 864x576 with 1 Axes>"
      ]
     },
     "metadata": {
      "needs_background": "light"
     },
     "output_type": "display_data"
    }
   ],
   "source": [
    "### Задание 7. Топ-3 признаков\n",
    "imp = pd.DataFrame(clf.feature_importances_, index=X_train.columns, columns=['importance'])\n",
    "imp.sort_values('importance').plot(kind='barh', figsize=(12, 8))\n",
    "\n",
    "'''\n",
    "Логично, что в разные отрезки года несчатные бобы будут атаковать раные болезни,\n",
    "потому что у всех патогенов в разное время реализуется жизненный цикл.\n",
    "Разные разновидности поражений участков растения также важны для классификации.\n",
    "Все сходится!\n",
    "'''"
   ]
  },
  {
   "cell_type": "code",
   "execution_count": null,
   "metadata": {},
   "outputs": [],
   "source": [
    "### Задане 8. Оптимизация с помощью GridSearch\n",
    "parameters={'n_estimators':range(100,150), 'max_depth':range(1,10),\n",
    "            'min_samples_split': range(2,5), 'min_samples_leaf': range(1,5)}\n",
    "search = GridSearchCV(clf, parameters)\n",
    "search.fit(X_train, y_train)\n",
    "\n",
    "# ноут считает уже сто лет... :("
   ]
  },
  {
   "cell_type": "code",
   "execution_count": null,
   "metadata": {},
   "outputs": [],
   "source": [
    "best_tree = search.best_estimator_\n",
    "predictions = best_tree.predict(X_test)"
   ]
  },
  {
   "cell_type": "code",
   "execution_count": null,
   "metadata": {},
   "outputs": [],
   "source": [
    "sns.heatmap(confusion_matrix(y_test, predictions), annot=True, cmap=\"Blues\")"
   ]
  },
  {
   "cell_type": "code",
   "execution_count": null,
   "metadata": {},
   "outputs": [],
   "source": [
    "print(metrics.classification_report(y_test, predictions))"
   ]
  },
  {
   "cell_type": "code",
   "execution_count": null,
   "metadata": {},
   "outputs": [],
   "source": [
    "imp = pd.DataFrame(clf.feature_importances_, index=X_train.columns, columns=['importance'])\n",
    "imp.sort_values('importance').plot(kind='barh', figsize=(12, 8))"
   ]
  }
 ],
 "metadata": {
  "kernelspec": {
   "display_name": "Python 3",
   "language": "python",
   "name": "python3"
  }
 },
 "nbformat": 4,
 "nbformat_minor": 4
}
